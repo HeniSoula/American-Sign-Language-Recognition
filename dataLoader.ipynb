{
  "cells": [
    {
      "cell_type": "markdown",
      "metadata": {
        "id": "z3mdNJJXc6Wy"
      },
      "source": [
        "# Chargement des données\n",
        "\n"
      ]
    },
    {
      "cell_type": "code",
      "execution_count": null,
      "metadata": {
        "id": "n_OkpjrpFXXG"
      },
      "outputs": [],
      "source": [
        "!git clone https://github.com/HeniSoula/American-Sign-Language-Recognition.git\n",
        "path = \"./dataset/\""
      ]
    },
    {
      "cell_type": "code",
      "execution_count": 1,
      "metadata": {
        "id": "Of-FqFb6vbqM"
      },
      "outputs": [],
      "source": [
        "import os\n",
        "import shutil\n",
        "\n",
        "import numpy as np\n",
        "import PIL\n",
        "from PIL import Image\n",
        "import os, sys\n",
        "from scipy.io import loadmat\n",
        "\n",
        "\n",
        "def load_data(data_path, classes, dataset='train', image_size=64):\n",
        "\n",
        "    num_images = 0\n",
        "    for i in range(len(classes)):\n",
        "        dirs = sorted(os.listdir(data_path + dataset + '/' + classes[i]))\n",
        "        num_images += len(dirs)\n",
        "                                \n",
        "    x = np.zeros((num_images, image_size, image_size, 3))\n",
        "    y = np.zeros((num_images, 1))\n",
        "    \n",
        "    current_index = 0\n",
        "    \n",
        "    # Parcours des différents répertoires pour collecter les images\n",
        "    for idx_class in range(len(classes)):\n",
        "        dirs = sorted(os.listdir(data_path + dataset + '/' + classes[idx_class]))\n",
        "        num_images += len(dirs)\n",
        "    \n",
        "        # Chargement des images, \n",
        "        for idx_img in range(len(dirs)):\n",
        "            item = dirs[idx_img]\n",
        "            if os.path.isfile(data_path + dataset + '/' + classes[idx_class] + '/' + item):\n",
        "                # Ouverture de l'image\n",
        "                img = Image.open(data_path + dataset + '/' + classes[idx_class] + '/' + item)\n",
        "                # Conversion de l'image en RGB\n",
        "                img = img.convert('RGB')\n",
        "                # Redimensionnement de l'image et écriture dans la variable de retour x \n",
        "                img = img.resize((image_size,image_size))\n",
        "                x[current_index] = np.asarray(img)\n",
        "                # Écriture du label associé dans la variable de retour y\n",
        "                y[current_index] = idx_class\n",
        "                current_index += 1\n",
        "                \n",
        "    return x, y"
      ]
    },
    {
      "cell_type": "code",
      "execution_count": 2,
      "metadata": {
        "id": "dwdkH1qbvbqN",
        "colab": {
          "base_uri": "https://localhost:8080/",
          "height": 234
        },
        "outputId": "91c3f3fc-0a98-48d6-abe5-a7604e2771aa"
      },
      "outputs": [
        {
          "output_type": "error",
          "ename": "NameError",
          "evalue": "ignored",
          "traceback": [
            "\u001b[0;31m---------------------------------------------------------------------------\u001b[0m",
            "\u001b[0;31mNameError\u001b[0m                                 Traceback (most recent call last)",
            "\u001b[0;32m<ipython-input-2-f750f760a8fc>\u001b[0m in \u001b[0;36m<module>\u001b[0;34m()\u001b[0m\n\u001b[1;32m      1\u001b[0m \u001b[0mlabels\u001b[0m \u001b[0;34m=\u001b[0m \u001b[0;34m[\u001b[0m\u001b[0mchr\u001b[0m\u001b[0;34m(\u001b[0m\u001b[0mi\u001b[0m\u001b[0;34m)\u001b[0m \u001b[0;32mfor\u001b[0m \u001b[0mi\u001b[0m \u001b[0;32min\u001b[0m \u001b[0mrange\u001b[0m\u001b[0;34m(\u001b[0m\u001b[0mord\u001b[0m\u001b[0;34m(\u001b[0m\u001b[0;34m'A'\u001b[0m\u001b[0;34m)\u001b[0m\u001b[0;34m,\u001b[0m\u001b[0mord\u001b[0m\u001b[0;34m(\u001b[0m\u001b[0;34m'Z'\u001b[0m\u001b[0;34m)\u001b[0m\u001b[0;34m+\u001b[0m\u001b[0;36m1\u001b[0m\u001b[0;34m)\u001b[0m\u001b[0;34m]\u001b[0m\u001b[0;34m\u001b[0m\u001b[0;34m\u001b[0m\u001b[0m\n\u001b[1;32m      2\u001b[0m \u001b[0;34m\u001b[0m\u001b[0m\n\u001b[0;32m----> 3\u001b[0;31m \u001b[0mx_train\u001b[0m\u001b[0;34m,\u001b[0m \u001b[0my_train\u001b[0m \u001b[0;34m=\u001b[0m \u001b[0mload_data\u001b[0m\u001b[0;34m(\u001b[0m\u001b[0mpath\u001b[0m\u001b[0;34m,\u001b[0m \u001b[0mlabels\u001b[0m\u001b[0;34m,\u001b[0m \u001b[0mdataset\u001b[0m\u001b[0;34m=\u001b[0m\u001b[0;34m'train'\u001b[0m\u001b[0;34m,\u001b[0m \u001b[0mimage_size\u001b[0m\u001b[0;34m=\u001b[0m\u001b[0;36m64\u001b[0m\u001b[0;34m)\u001b[0m\u001b[0;34m\u001b[0m\u001b[0;34m\u001b[0m\u001b[0m\n\u001b[0m\u001b[1;32m      4\u001b[0m \u001b[0mprint\u001b[0m\u001b[0;34m(\u001b[0m\u001b[0mx_train\u001b[0m\u001b[0;34m.\u001b[0m\u001b[0mshape\u001b[0m\u001b[0;34m,\u001b[0m \u001b[0my_train\u001b[0m\u001b[0;34m.\u001b[0m\u001b[0mshape\u001b[0m\u001b[0;34m)\u001b[0m\u001b[0;34m\u001b[0m\u001b[0;34m\u001b[0m\u001b[0m\n\u001b[1;32m      5\u001b[0m \u001b[0;34m\u001b[0m\u001b[0m\n",
            "\u001b[0;31mNameError\u001b[0m: name 'path' is not defined"
          ]
        }
      ],
      "source": [
        "labels = [chr(i) for i in range(ord('A'),ord('Z')+1)]\n",
        "\n",
        "x_train, y_train = load_data(path, labels, dataset='train', image_size=64)\n",
        "print(x_train.shape, y_train.shape)\n",
        "\n",
        "x_val, y_val = load_data(path, labels, dataset='valid', image_size=64)\n",
        "print(x_val.shape, y_val.shape)\n",
        "\n",
        "x_test, y_test = load_data(path, labels, dataset='test', image_size=64)\n",
        "print(x_test.shape, y_test.shape)"
      ]
    },
    {
      "cell_type": "code",
      "execution_count": null,
      "metadata": {
        "id": "5Qm0goW9vbqO"
      },
      "outputs": [],
      "source": [
        "import matplotlib.pyplot as plt\n",
        "\n",
        "plt.figure(figsize=(12, 12))\n",
        "shuffle_indices = np.random.permutation(9)\n",
        "for i in range(0, 9):\n",
        "    plt.subplot(3, 3, i+1)\n",
        "    image = x_train[shuffle_indices[i]]\n",
        "    plt.title(labels[int(y_train[shuffle_indices[i]])])\n",
        "    plt.imshow(image/255)\n",
        "\n",
        "plt.tight_layout()\n",
        "plt.show()"
      ]
    }
  ],
  "metadata": {
    "accelerator": "GPU",
    "colab": {
      "collapsed_sections": [],
      "machine_shape": "hm",
      "name": "Chargement des données.ipynb",
      "provenance": []
    },
    "kernelspec": {
      "display_name": "Python 3",
      "language": "python",
      "name": "python3"
    },
    "language_info": {
      "codemirror_mode": {
        "name": "ipython",
        "version": 3
      },
      "file_extension": ".py",
      "mimetype": "text/x-python",
      "name": "python",
      "nbconvert_exporter": "python",
      "pygments_lexer": "ipython3",
      "version": "3.8.5"
    }
  },
  "nbformat": 4,
  "nbformat_minor": 0
}